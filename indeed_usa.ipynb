{
 "cells": [
  {
   "cell_type": "markdown",
   "metadata": {},
   "source": [
    "## Data Science Skills Importance\n",
    "#### This Algorithm assembles job postings of a specified job title and scans the content for specific key job skill terms associated with job title to determin the frequency of term usage and associated \"importance\" of the skill.\n",
    "### Import Packages & Libraries Block"
   ]
  },
  {
   "cell_type": "code",
   "execution_count": 2,
   "metadata": {},
   "outputs": [],
   "source": [
    "from bs4 import BeautifulSoup # For HTML parsing\n",
    "import urllib2 # Website connections\n",
    "import re # Regular expressions\n",
    "from time import sleep # To prevent overwhelming the server between connections\n",
    "from collections import Counter # Keep track of our term counts\n",
    "import nltk\n",
    "from nltk import word_tokenize\n",
    "from nltk.corpus import stopwords # Filter out stopwords, such as 'the', 'or', 'and'\n",
    "import pandas as pd # For converting results to a dataframe and bar chart plots\n",
    "%matplotlib inline\n",
    "from multiprocessing import Pool"
   ]
  },
  {
   "cell_type": "markdown",
   "metadata": {},
   "source": [
    "### Isolation of key seach words from each job posting\n",
    "#### Individual job postings are partitioned to extract the relevant portions of the html content. Cleaning includes removal of stop words, removal of blank lines and line endings, removal of unicode, and filters with regular expressions to include only key search words."
   ]
  },
  {
   "cell_type": "markdown",
   "metadata": {},
   "source": [
    "### Text Cleaner Block"
   ]
  },
  {
   "cell_type": "code",
   "execution_count": 3,
   "metadata": {},
   "outputs": [],
   "source": [
    "def text_cleaner(website):\n",
    "    '''\n",
    "    This function just cleans up the raw html so that I can look at it.\n",
    "    Inputs: a URL to investigate\n",
    "    Outputs: Cleaned text only\n",
    "    '''\n",
    "    \n",
    "    try:\n",
    "        site = urllib2.urlopen(website).read() # Connect to the job posting\n",
    "    except: \n",
    "        return   # Need this in case the website isn't there anymore or some other weird connection problem \n",
    "    soup_obj = BeautifulSoup(site, \"lxml\") # Get the html from the site\n",
    "    for script in soup_obj([\"script\", \"style\"]):\n",
    "        script.extract() # Remove these two elements from the BS4 object\n",
    "        text = soup_obj.get_text() # Get the text from this\n",
    "        lines = (line.strip() for line in text.splitlines()) # break into lines\n",
    "        chunks = (phrase.strip() for line in lines for phrase in line.split(\"  \")) # break multi-headlines into a line each\n",
    "    def chunk_space(chunk):\n",
    "        chunk_out = chunk + ' ' # Need to fix spacing issue\n",
    "        return chunk_out  \n",
    "    text = ''.join(chunk_space(chunk) for chunk in chunks if chunk).encode('utf-8') # Get rid of all blank lines and ends \n",
    "    #of line\n",
    "    # Now clean out all of the unicode junk (this line works great!!!)\n",
    "    try:\n",
    "        text = text.decode('unicode_escape').encode('ascii', 'ignore') # Need this as some websites aren't formatted\n",
    "    except:                                                            # in a way that this works, can occasionally throw\n",
    "        return                                                         # an exception\n",
    "    text = re.sub(\"[^a-zA-Z.+3]\",\" \", text)  # Now get rid of any terms that aren't words (include 3 for d3.js)\n",
    "    # Also include + for C++\n",
    "    text = text.lower().split()  # Go to lower case and split them apart\n",
    "    stop_words = set(stopwords.words(\"english\")) # Filter out any stop words\n",
    "    text = [w for w in text if not w in stop_words]\n",
    "    text = list(set(text)) # Last, just get the set of these. Ignore counts (we are just looking at whether a term existed\n",
    "    # or not on the website)\n",
    "    \n",
    "    return text\n",
    "    "
   ]
  },
  {
   "cell_type": "markdown",
   "metadata": {},
   "source": [
    "### City, State Job List Development\n",
    "### Job URL List Block"
   ]
  },
  {
   "cell_type": "code",
   "execution_count": 4,
   "metadata": {},
   "outputs": [],
   "source": [
    "def city_state(city = None, state = None):\n",
    "    ''' This function accepts the desired city and state for Indeed search and returns the\n",
    "    web site url. multi word cities are accoodated for like Salt Lake City'''\n",
    "    final_job = 'data+scientist'\n",
    "    # searching for data scientist exact fit(\"data scientist\" on Indeed search)\n",
    "    # Make sure the city specified works properly if it has more than one word(such as San Francisco)\n",
    "    if city is not None:\n",
    "        final_city = city.split()\n",
    "        final_city = '+'.join(word for word in final_city)\n",
    "        final_site_list = ['http://www.indeed.com/jobs?q=%22', final_job, '%22&l=', final_city,'%2C+', state]\n",
    "        # Join all of our strings together so that indeed will search correctly\n",
    "    else:\n",
    "        final_site_list = ['http://www.indeed.com/jobs?q=\"', final_job, '\"']\n",
    "    \n",
    "    final_site = ''.join(final_site_list) # Merge the html address together into one string\n",
    "    return final_site"
   ]
  },
  {
   "cell_type": "markdown",
   "metadata": {},
   "source": [
    "###  Job Posting Page Partition"
   ]
  },
  {
   "cell_type": "code",
   "execution_count": 5,
   "metadata": {},
   "outputs": [],
   "source": [
    "def number_jobs(final_site,city):\n",
    "    print final_site\n",
    "    print city\n",
    "    base_url = 'http://www.indeed.com'\n",
    "\n",
    "    try:\n",
    "        html = urllib2.urlopen(final_site).read() # Open up the front page of our search first\n",
    "    except:\n",
    "        'That city/state combination did not have any jobs. Exiting . . .' # In case the city is invalid\n",
    "        return\n",
    "    \n",
    "    soup = BeautifulSoup(html, \"lxml\") # Get the html from the first page\n",
    "    # Now find out how many jobs there were\n",
    "    num_jobs_area = soup.find(id = 'searchCount').string.encode('utf-8')    # Now extract the total number of jobs found\n",
    "                                                                            # The 'searchCount' object has this\n",
    "    job_numbers = re.findall('\\d+', num_jobs_area) # Extract the total jobs found from the search result\n",
    "    print job_numbers\n",
    "    if len(job_numbers) > 3:\n",
    "        #Have a total number of jobs greater than 1000\n",
    "        total_num_jobs = (int(job_numbers[1]) * 1000) + int(job_numbers[2])\n",
    "    else:\n",
    "        total_num_jobs = int(job_numbers[1])\n",
    "    \n",
    "    city_title = city\n",
    "    if city is None:\n",
    "        city_title = 'Nationwide'\n",
    "    \n",
    "    print 'There were', total_num_jobs, 'jobs found,', city_title  # Display how many jobs were found\n",
    "    num_pages = total_num_jobs / 10   # This will be how we know the number of times we need to iterate \n",
    "#    print num_pages, \"pages\"                                  # over each new search result page\n",
    "    return num_pages"
   ]
  },
  {
   "cell_type": "markdown",
   "metadata": {},
   "source": [
    "### Job Description Text Block"
   ]
  },
  {
   "cell_type": "code",
   "execution_count": 6,
   "metadata": {},
   "outputs": [],
   "source": [
    "def get_description(job_URLS):\n",
    "    \n",
    "    job_descriptions = []\n",
    "    final_description = []\n",
    "    pool = Pool(15)\n",
    "    job_descriptions = pool.map(text_cleaner, job_URLS)\n",
    "    print final_description\n",
    "\n",
    "    pool.close() \n",
    "    pool.join()\n",
    "  #  for j in xrange(0, len(job_URLS)):\n",
    "  #       print len(job_URLS)-j,\n",
    "  #      final_description = text_cleaner(job_URLS[j])\n",
    "  #      if final_description: #So that we only append when the website was accessed correctly\n",
    "  #          job_descriptions.append(final_description)\n",
    "#        sleep(1)# So that we don't be jerks. If you have a very fast internet connection you could hit the server a lot! \n",
    "\n",
    "    return job_descriptions\n",
    " "
   ]
  },
  {
   "cell_type": "markdown",
   "metadata": {},
   "source": [
    "### Job Link Extraction Block"
   ]
  },
  {
   "cell_type": "code",
   "execution_count": 7,
   "metadata": {},
   "outputs": [],
   "source": [
    "def find_jobs(num_pages, final_site):\n",
    "    job_descriptions = []             # Store all our descriptions in this list\n",
    "    job_URLS = []\n",
    "    base_url = 'http://www.indeed.com'\n",
    "    print 'Getting page',\n",
    "    for i in xrange(1, num_pages + 1): #Loop through all of our search result pages\n",
    "        print i,\n",
    "        start_num = str(i * 10)       # Assign the multiplier of 10 to view the pages we want\n",
    "        current_page = ''.join([final_site, '&start=', start_num])\n",
    "       \n",
    "        # Now that we can view the correct 10 job returns, start collecting the text samples from each\n",
    "        html_page = urllib2.urlopen(current_page).read() # Get the page        \n",
    "        page_obj = BeautifulSoup(html_page, \"lxml\")      # Locate all of the job links\n",
    "\n",
    "        job_link_area = page_obj.find(id = 'resultsCol') # The center column on the page where the job postings exist\n",
    "        for link in job_link_area.find_all('a'):\n",
    "            if link.get('href') != None:                \n",
    "                job_URLS.append(base_url + link.get('href'))\n",
    "\n",
    "                #job_URLS = [base_url + link.get('href') for link in job_link_area.find_all('a')]\n",
    "                # Get the URLS for the jobs\n",
    "        job_URLS = filter(lambda x: 'clk' in x, job_URLS) # Now get just the job related URLS\n",
    "\n",
    "    return job_URLS    \n",
    " "
   ]
  },
  {
   "cell_type": "markdown",
   "metadata": {},
   "source": [
    "### Key Search Term Block"
   ]
  },
  {
   "cell_type": "code",
   "execution_count": 8,
   "metadata": {},
   "outputs": [],
   "source": [
    "def skills_info(city = None, state = None):\n",
    "    '''\n",
    "    This function will take a desired city / state and look\n",
    "    for all new job postings on Indeed.com. It will crawl all of the job postings and keep track of how many\n",
    "    use a preset list of typical data science skills. The final percentage\n",
    "    for each skill is then displayed at the end of the collation.\n",
    "    Inputs: The location 's city and state. These are optional. If no city/state is input, \n",
    "    the function will assume a national search(this can take a while !!!).\n",
    "    Input the city / state as strings, such as skills_info('Chicago', 'IL').\n",
    "    Use a two letter abbreviation for the state.\n",
    "    Output: A bar chart showing the most commonly desired skills in the job market for\n",
    "    a data scientist.\n",
    "    '''\n",
    "\n",
    "    #final_site = city_state(city, state)\n",
    "    sample = city_state(city,state)\n",
    "    \n",
    "    sample_no = number_jobs(sample,city)\n",
    "    \n",
    "    \n",
    "    sample_jobs = find_jobs(sample_no,sample)\n",
    "    \n",
    "               \n",
    "    job_descript = get_description(sample_jobs)\n",
    "    \n",
    "    print 'Done with collecting the job postings!'\n",
    "    print 'There were', len(job_descript), 'jobs successfully found.'\n",
    "    \n",
    "    city_title = city\n",
    "    doc_frequency = Counter()  # This will create a full counter of our terms.\n",
    "    [doc_frequency.update(item) for item in job_descript]  # List comp\n",
    "    # Now we can just look at our final dict list inside doc_frequency\n",
    "\n",
    "    # Obtain our key terms and store them in a dict. \n",
    "    # These are the key data science skills we are looking for\n",
    "    prog_lang_dict = Counter({\n",
    "        'R': doc_frequency['r'],\n",
    "        'Python': doc_frequency['python'],\n",
    "        'Java': doc_frequency['java'],\n",
    "        'C++': doc_frequency['c++'],\n",
    "        'Ruby': doc_frequency['ruby'],\n",
    "        'Perl': doc_frequency['perl'],\n",
    "        'Matlab': doc_frequency['matlab'],\n",
    "        'JavaScript': doc_frequency['javascript'],\n",
    "        'Scala': doc_frequency['scala']\n",
    "    })\n",
    "    analysis_tool_dict = Counter({\n",
    "        'Excel': doc_frequency['excel'],\n",
    "        'Tableau': doc_frequency['tableau'],\n",
    "        'D3.js': doc_frequency['d3.js'],\n",
    "        'SAS': doc_frequency['sas'],\n",
    "        'SPSS': doc_frequency['spss'],\n",
    "        'D3': doc_frequency['d3'],\n",
    "        'AWS': doc_frequency['aws'],\n",
    "        'tensorflow': doc_frequency['tensorflow']\n",
    "    })\n",
    "    hadoop_dict = Counter({\n",
    "        'Hadoop': doc_frequency['hadoop'],\n",
    "        'MapReduce': doc_frequency['mapreduce'],\n",
    "        'Spark': doc_frequency['spark'],\n",
    "        'Pig': doc_frequency['pig'],\n",
    "        'Hive': doc_frequency['hive'],\n",
    "        'Shark': doc_frequency['shark'],\n",
    "        'Oozie': doc_frequency['oozie'],\n",
    "        'ZooKeeper': doc_frequency['zookeeper'],\n",
    "        'Flume': doc_frequency['flume'],\n",
    "        'Mahout': doc_frequency['mahout']\n",
    "    })\n",
    "    database_dict = Counter({\n",
    "        'SQL': doc_frequency['sql'],\n",
    "        'NoSQL': doc_frequency['nosql'],\n",
    "        'HBase': doc_frequency['hbase'],\n",
    "        'Cassandra': doc_frequency['cassandra'],\n",
    "        'MongoDB': doc_frequency['mongodb']\n",
    "    })\n",
    "    overall_total_skills = prog_lang_dict + analysis_tool_dict + hadoop_dict + database_dict\n",
    "    # Combine our Counter objects\n",
    "    print overall_total_skills\n",
    "    final_frame = pd.DataFrame(overall_total_skills.items(), columns = ['Term', 'NumPostings'])\n",
    "    # Convert these terms to a dataframe\n",
    "    # Change the values to reflect a percentage of the postings\n",
    "    final_frame.NumPostings = (final_frame.NumPostings) * 100 / len(job_descript)\n",
    "    # Gives percentage of job postings# having that term\n",
    "    # Sort the data for plotting purposes\n",
    "    #final_frame.sort(key=takeSecond, reverse=True)  # Get it ready for a bar plot\n",
    "    final_frame.sort_values('NumPostings', ascending = False, inplace = True)\n",
    "    \n",
    "    final_plot = final_frame.plot(x = 'Term', kind = 'bar', legend = None, title = 'Percentage of Data Scientist Job Ads with a Key Skill, ' + city_title)\n",
    "    final_plot.set_ylabel('Percentage Appearing in Job Ads')\n",
    "    fig = final_plot.get_figure()     # Have to convert the pandas plot object to a matplotlib object\n",
    "    return fig, final_frame  # End of the function"
   ]
  },
  {
   "cell_type": "markdown",
   "metadata": {},
   "source": [
    "### Execution Block"
   ]
  },
  {
   "cell_type": "code",
   "execution_count": null,
   "metadata": {
    "scrolled": false
   },
   "outputs": [
    {
     "name": "stdout",
     "output_type": "stream",
     "text": [
      "http://www.indeed.com/jobs?q=%22data+scientist%22&l=boston%2C+ma\n",
      "boston\n",
      "['1', '317']\n",
      "There were 317 jobs found, boston\n",
      "Getting page 1 2 3 4 5 6 7 8 9 10 11 12 13 14"
     ]
    }
   ],
   "source": [
    "from timeit import default_timer as timer\n",
    "\n",
    "start = timer()\n",
    "\n",
    "seattle_info = skills_info(city = 'boston', state = 'ma') \n",
    "seattle_info\n",
    "\n",
    "end = timer()\n",
    "print(end - start)"
   ]
  },
  {
   "cell_type": "code",
   "execution_count": null,
   "metadata": {},
   "outputs": [],
   "source": []
  },
  {
   "cell_type": "code",
   "execution_count": null,
   "metadata": {},
   "outputs": [],
   "source": []
  }
 ],
 "metadata": {
  "kernelspec": {
   "display_name": "kag27",
   "language": "python",
   "name": "kag27"
  },
  "language_info": {
   "codemirror_mode": {
    "name": "ipython",
    "version": 2
   },
   "file_extension": ".py",
   "mimetype": "text/x-python",
   "name": "python",
   "nbconvert_exporter": "python",
   "pygments_lexer": "ipython2",
   "version": "2.7.13"
  }
 },
 "nbformat": 4,
 "nbformat_minor": 2
}
